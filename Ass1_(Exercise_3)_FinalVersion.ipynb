{
  "cells": [
    {
      "cell_type": "code",
      "execution_count": 36,
      "metadata": {
        "id": "Iq_2Wi5XhwCQ"
      },
      "outputs": [],
      "source": [
        "import numpy as np\n",
        "import math\n",
        "import torch\n",
        "import torch.nn as nn\n",
        "import torchvision\n",
        "import torchvision.transforms as transforms\n",
        "from torch.utils.data.sampler import SubsetRandomSampler\n",
        "from torchvision import datasets\n",
        "import matplotlib.pyplot as plt\n"
      ]
    },
    {
      "cell_type": "code",
      "execution_count": null,
      "metadata": {
        "id": "OlP0PVw41fNJ"
      },
      "outputs": [],
      "source": [
        "device = torch.device('cuda' if torch.cuda.is_available() else 'cpu')\n",
        "# HypeParameters\n",
        "input=28*28\n",
        "input_size = input\n",
        "num_classes = 10\n",
        "num_epochs = 10\n",
        "hidden_size = 500\n",
        "batch_size = 128\n",
        "learning_rate = 0.0001"
      ]
    },
    {
      "cell_type": "code",
      "execution_count": null,
      "metadata": {
        "id": "fxkY7Ox_hzWx"
      },
      "outputs": [],
      "source": [
        "#Data-loading\n",
        "train_dataset = torchvision.datasets.FashionMNIST(root='./data',train=True,\n",
        "transform=transforms.ToTensor(),download=True)\n",
        "test_dataset = torchvision.datasets.FashionMNIST(root='./data',train=False,\n",
        "transform=transforms.ToTensor(),download=True)\n",
        "train_loader = torch.utils.data.DataLoader(dataset=(train_dataset),\n",
        "batch_size=batch_size,shuffle=True)\n",
        "test_loader = torch.utils.data.DataLoader(dataset=(test_dataset) ,\n",
        "batch_size=batch_size,shuffle=False)\n",
        "###########################################\n",
        "def create_datasets(batch_size):\n",
        "# percentage of training set to use as validation\n",
        "  valid_size = 0.15\n",
        "# convert data to torch.FloatTensor\n",
        "  transform = transforms.ToTensor()\n",
        "# choose the training and test datasets\n",
        "  train_data = datasets.FashionMNIST(root='data',train=True,download=True,\n",
        "                              transform=transform)\n",
        "  test_data = datasets.FashionMNIST(root='data',train=False,download=True,\n",
        "                             transform=transform)\n",
        "  # obtain training indices that will be used for validation\n",
        "  num_train = len(train_data)\n",
        "  indices = list(range(num_train))\n",
        "  np.random.shuffle(indices)\n",
        "  split = int(np.floor(valid_size * num_train))\n",
        "  train_idx, valid_idx = indices[split:], indices[:split]\n",
        "  # define samplers for obtaining training and validation batches\n",
        "  train_sampler = SubsetRandomSampler(train_idx)\n",
        "  valid_sampler = SubsetRandomSampler(valid_idx)\n",
        "  # load training data in batches\n",
        "  train_loader = torch.utils.data.DataLoader(train_data,batch_size=batch_size,\n",
        "  sampler=train_sampler,num_workers=0)\n",
        "  # load validation data in batches\n",
        "  valid_loader = torch.utils.data.DataLoader(train_data,batch_size=batch_size,\n",
        "  sampler=valid_sampler,num_workers=0)\n",
        "  # load test data in batches\n",
        "  test_loader = torch.utils.data.DataLoader(test_data,batch_size=batch_size,\n",
        "  num_workers=0)\n",
        "  return train_loader, test_loader, valid_loader"
      ]
    },
    {
      "cell_type": "code",
      "execution_count": null,
      "metadata": {
        "id": "Y1oJccvOsZWk"
      },
      "outputs": [],
      "source": [
        "# example = iter(train_loader)\n",
        "# example\n",
        "# example_data, example_targ = example.next()\n",
        "# for i in range(6):\n",
        "#   plt.subplot(2,3,i+1)\n",
        "#   plt.imshow(example_data[i][0])\n",
        "#   plt.show()\n",
        "#pick a sample to plot\n",
        "\n",
        "sample = 3\n",
        "image = train_dataset[3][0][0]\n",
        "# plot the sample\n",
        "fig = plt.figure\n",
        "plt.imshow(image, cmap='gray')\n",
        "plt.show()"
      ]
    },
    {
      "cell_type": "code",
      "execution_count": null,
      "metadata": {
        "id": "WjHmPsB6swVh"
      },
      "outputs": [],
      "source": []
    },
    {
      "cell_type": "code",
      "execution_count": 40,
      "metadata": {
        "colab": {
          "base_uri": "https://localhost:8080/"
        },
        "id": "U1ArX3nIs3Lv",
        "outputId": "c4086c96-8e3e-4717-e92d-933b02ded98f"
      },
      "outputs": [
        {
          "metadata": {
            "tags": null
          },
          "name": "stdout",
          "output_type": "stream",
          "text": [
            "NeuralNet(\n",
            "  (l1): Linear(in_features=784, out_features=500, bias=True)\n",
            "  (relu): ReLU()\n",
            "  (l2): Linear(in_features=500, out_features=250, bias=True)\n",
            "  (l3): Linear(in_features=250, out_features=10, bias=True)\n",
            "  (N): Softmax(dim=None)\n",
            ")\n"
          ]
        }
      ],
      "source": [
        "class NeuralNet(nn.Module):\n",
        "  def __init__(self, input_size, hidden_size, num_classes):\n",
        "    super(NeuralNet, self).__init__()\n",
        "    self.input_size = input_size\n",
        "    self.l1 = nn.Linear(input_size, hidden_size)\n",
        "    self.relu = nn.ReLU()\n",
        "    self.l2 = nn.Linear(hidden_size, math.floor(hidden_size/2))\n",
        "    self.l3 = nn.Linear(math.floor(hidden_size/2), num_classes)\n",
        "    self.N=nn.Softmax()\n",
        "  def forward(self, x):\n",
        "    out = self.l1(x)\n",
        "    out = self.relu(out)\n",
        "    out = self.l2(out)\n",
        "    out = self.relu(out)\n",
        "    out = self.l3(out)\n",
        "    # no activation and no softmax at the end\n",
        "    return out\n",
        "model = NeuralNet(input_size, hidden_size, num_classes).to(device)\n",
        "print(model)\n"
      ]
    },
    {
      "cell_type": "code",
      "execution_count": 41,
      "metadata": {
        "colab": {
          "base_uri": "https://localhost:8080/",
          "height": 1000
        },
        "id": "Y0CoAAkttGOC",
        "outputId": "46e08e9a-543a-4393-c763-63bf3c0769a4"
      },
      "outputs": [
        {
          "output_type": "stream",
          "name": "stdout",
          "text": [
            "Epoch [1/10], Step [100/469], Loss: 0.8947812914848328\n",
            "Epoch [1/10], Step [200/469], Loss: 0.7380427122116089\n",
            "Epoch [1/10], Step [300/469], Loss: 0.6428419351577759\n",
            "Epoch [1/10], Step [400/469], Loss: 0.513683021068573\n",
            "Epoch [2/10], Step [100/469], Loss: 0.49215883016586304\n",
            "Epoch [2/10], Step [200/469], Loss: 0.42894595861434937\n",
            "Epoch [2/10], Step [300/469], Loss: 0.360217422246933\n",
            "Epoch [2/10], Step [400/469], Loss: 0.47549620270729065\n",
            "Epoch [3/10], Step [100/469], Loss: 0.5738204121589661\n",
            "Epoch [3/10], Step [200/469], Loss: 0.4235231876373291\n",
            "Epoch [3/10], Step [300/469], Loss: 0.5362973809242249\n",
            "Epoch [3/10], Step [400/469], Loss: 0.3853635787963867\n",
            "Epoch [4/10], Step [100/469], Loss: 0.3558949828147888\n",
            "Epoch [4/10], Step [200/469], Loss: 0.49537286162376404\n",
            "Epoch [4/10], Step [300/469], Loss: 0.35782068967819214\n",
            "Epoch [4/10], Step [400/469], Loss: 0.4016790986061096\n",
            "Epoch [5/10], Step [100/469], Loss: 0.41262832283973694\n",
            "Epoch [5/10], Step [200/469], Loss: 0.32114177942276\n",
            "Epoch [5/10], Step [300/469], Loss: 0.5399298667907715\n",
            "Epoch [5/10], Step [400/469], Loss: 0.5223937630653381\n",
            "Epoch [6/10], Step [100/469], Loss: 0.5086269378662109\n",
            "Epoch [6/10], Step [200/469], Loss: 0.2975493371486664\n",
            "Epoch [6/10], Step [300/469], Loss: 0.3047106862068176\n",
            "Epoch [6/10], Step [400/469], Loss: 0.3679600656032562\n",
            "Epoch [7/10], Step [100/469], Loss: 0.36806753277778625\n",
            "Epoch [7/10], Step [200/469], Loss: 0.361255943775177\n",
            "Epoch [7/10], Step [300/469], Loss: 0.33602985739707947\n",
            "Epoch [7/10], Step [400/469], Loss: 0.33394214510917664\n",
            "Epoch [8/10], Step [100/469], Loss: 0.3637099266052246\n",
            "Epoch [8/10], Step [200/469], Loss: 0.3508680760860443\n",
            "Epoch [8/10], Step [300/469], Loss: 0.29199525713920593\n",
            "Epoch [8/10], Step [400/469], Loss: 0.29626426100730896\n",
            "Epoch [9/10], Step [100/469], Loss: 0.2960127890110016\n",
            "Epoch [9/10], Step [200/469], Loss: 0.35169366002082825\n",
            "Epoch [9/10], Step [300/469], Loss: 0.31019824743270874\n",
            "Epoch [9/10], Step [400/469], Loss: 0.3305296301841736\n",
            "Epoch [10/10], Step [100/469], Loss: 0.29576554894447327\n",
            "Epoch [10/10], Step [200/469], Loss: 0.3312704861164093\n",
            "Epoch [10/10], Step [300/469], Loss: 0.3593493103981018\n",
            "Epoch [10/10], Step [400/469], Loss: 0.24861600995063782\n"
          ]
        },
        {
          "output_type": "display_data",
          "data": {
            "text/plain": [
              "<Figure size 432x288 with 1 Axes>"
            ],
            "image/png": "[encoded data removed]"
          },
          "metadata": {
            "needs_background": "light"
          }
        }
      ],
      "source": [
        "# Loss and optimizer\n",
        "criterion = nn.CrossEntropyLoss()\n",
        "optimizer = torch.optim.Adam(model.parameters(), lr=learning_rate, weight_decay=0.00001)\n",
        "Loss=[]\n",
        "n_total_steps = len(train_loader)\n",
        "for epoch in range(num_epochs):\n",
        "  for i, (images, labels) in enumerate(train_loader):\n",
        "    # origin shape: [100, 1, 28, 28]\n",
        "    # resized: [100, 784]\n",
        "    images = images.reshape(-1, 28*28).to(device)\n",
        "    labels = labels.to(device)\n",
        "    # Forward pass\n",
        "    outputs = model(images)\n",
        "    loss = criterion(outputs, labels)\n",
        "    # Backward and optimize\n",
        "    optimizer.zero_grad()\n",
        "    loss.backward()\n",
        "    optimizer.step()\n",
        "    Loss.append(loss.item())\n",
        "    if (i+1) % 100 == 0:\n",
        "      print (f'Epoch [{epoch+1}/{num_epochs}], Step [{i+1}/{n_total_steps}], Loss: {loss.item()}')\n",
        "\n",
        "plt.plot(Loss)\n",
        "plt.xlabel(\"Epoch\")\n",
        "plt.ylabel(\"Loss\")\n",
        "plt.show()\n"
      ]
    },
    {
      "cell_type": "code",
      "execution_count": null,
      "metadata": {
        "id": "RvOjV2Yu_AW2"
      },
      "outputs": [],
      "source": [
        "# Test the model\n",
        "# In test phase, we don't need to compute gradients (for memory efficiency)\n",
        "with torch.no_grad():\n",
        "  n_correct = 0\n",
        "  n_samples = 0\n",
        "  for images, labels in test_loader:\n",
        "    images = images.reshape(-1, 28*28).to(device)\n",
        "    labels = labels.to(device)\n",
        "    outputs = model(images)\n",
        "    # max returns (value ,index)\n",
        "    _, predicted = torch.max(outputs.data, 1)\n",
        "    n_samples += labels.size(0)\n",
        "    n_correct += (predicted == labels).sum().item()\n",
        "  acc = 100.0 * n_correct / n_samples\n",
        "  print(f'Accuracy of the network on the 10000 test i```mages: {acc} %')"
      ]
    },
    {
      "cell_type": "code",
      "execution_count": 43,
      "metadata": {
        "colab": {
          "base_uri": "https://localhost:8080/"
        },
        "id": "OPVFu3X5UQJ-",
        "outputId": "213078f1-5358-4a68-8340-c5ae371c753e"
      },
      "outputs": [
        {
          "output_type": "stream",
          "name": "stdout",
          "text": [
            "NeuralNet(\n",
            "  (l1): Linear(in_features=784, out_features=500, bias=True)\n",
            "  (relu): ReLU()\n",
            "  (l2): Linear(in_features=500, out_features=250, bias=True)\n",
            "  (BN): BatchNorm1d(250, eps=1e-05, momentum=0.1, affine=True, track_running_stats=True)\n",
            "  (D0): Dropout(p=0.05, inplace=False)\n",
            "  (D1): Dropout(p=0.15, inplace=False)\n",
            "  (l3): Linear(in_features=250, out_features=20, bias=True)\n",
            "  (BN2): BatchNorm1d(20, eps=1e-05, momentum=0.1, affine=True, track_running_stats=True)\n",
            "  (l4): Linear(in_features=20, out_features=10, bias=True)\n",
            "  (N): Softmax(dim=None)\n",
            ")\n"
          ]
        }
      ],
      "source": [
        "del model\n",
        "class NeuralNet(nn.Module):\n",
        "  def __init__(self, input_size, hidden_size, num_classes):\n",
        "    super(NeuralNet, self).__init__()\n",
        "    self.input_size = input_size\n",
        "    self.l1 = nn.Linear(input_size, hidden_size)\n",
        "    self.relu = nn.ReLU()\n",
        "    self.l2 = nn.Linear(hidden_size, math.floor(hidden_size/2))\n",
        "    self.BN= nn.BatchNorm1d(math.floor(hidden_size/2))\n",
        "    self.D0=nn.Dropout(0.05)\n",
        "    self.D1=nn.Dropout(0.15)\n",
        "    self.l3 = nn.Linear(math.floor(hidden_size/2), num_classes*2)\n",
        "    self.BN2= nn.BatchNorm1d(num_classes*2)\n",
        "    self.l4 = nn.Linear(num_classes*2, num_classes)\n",
        "    self.N=nn.Softmax()\n",
        "  def forward(self, x):\n",
        "    out = self.l1(x)\n",
        "    out = self.relu(out)\n",
        "    out= self.D0(out)\n",
        "    out = self.l2(out)\n",
        "    out= self.BN(out)\n",
        "    out = self.relu(out)\n",
        "    out= self.D1(out)\n",
        "    out = self.l3(out)\n",
        "    out = self.relu(out)\n",
        "    out= self.BN2(out)\n",
        "    out = self.relu(out)\n",
        "    out = self.l4(out)\n",
        "    # no activation and no softmax at the end\n",
        "    return out\n",
        "model = NeuralNet(input_size, hidden_size, num_classes).to(device)\n",
        "print(model)\n"
      ]
    },
    {
      "cell_type": "code",
      "execution_count": 44,
      "metadata": {
        "colab": {
          "base_uri": "https://localhost:8080/",
          "height": 1000
        },
        "id": "7XrA8GvCtj2_",
        "outputId": "ec09804c-0706-4a6c-bc36-bcb7cf2d16b6"
      },
      "outputs": [
        {
          "output_type": "stream",
          "name": "stdout",
          "text": [
            "Epoch [1/10], Step [100/469], Loss: 1.4218800067901611\n",
            "Epoch [1/10], Step [200/469], Loss: 1.328701138496399\n",
            "Epoch [1/10], Step [300/469], Loss: 1.1972815990447998\n",
            "Epoch [1/10], Step [400/469], Loss: 1.1386239528656006\n",
            "Epoch [2/10], Step [100/469], Loss: 0.9976623058319092\n",
            "Epoch [2/10], Step [200/469], Loss: 0.9992952942848206\n",
            "Epoch [2/10], Step [300/469], Loss: 0.8878344297409058\n",
            "Epoch [2/10], Step [400/469], Loss: 0.744052529335022\n",
            "Epoch [3/10], Step [100/469], Loss: 0.659353494644165\n",
            "Epoch [3/10], Step [200/469], Loss: 0.7189027667045593\n",
            "Epoch [3/10], Step [300/469], Loss: 0.5576114058494568\n",
            "Epoch [3/10], Step [400/469], Loss: 0.6361163258552551\n",
            "Epoch [4/10], Step [100/469], Loss: 0.6345592737197876\n",
            "Epoch [4/10], Step [200/469], Loss: 0.5662624835968018\n",
            "Epoch [4/10], Step [300/469], Loss: 0.4833127558231354\n",
            "Epoch [4/10], Step [400/469], Loss: 0.44945552945137024\n",
            "Epoch [5/10], Step [100/469], Loss: 0.47366857528686523\n",
            "Epoch [5/10], Step [200/469], Loss: 0.44342800974845886\n",
            "Epoch [5/10], Step [300/469], Loss: 0.4792379140853882\n",
            "Epoch [5/10], Step [400/469], Loss: 0.4135746657848358\n",
            "Epoch [6/10], Step [100/469], Loss: 0.26972275972366333\n",
            "Epoch [6/10], Step [200/469], Loss: 0.3937090337276459\n",
            "Epoch [6/10], Step [300/469], Loss: 0.3648633062839508\n",
            "Epoch [6/10], Step [400/469], Loss: 0.3748798370361328\n",
            "Epoch [7/10], Step [100/469], Loss: 0.2566990852355957\n",
            "Epoch [7/10], Step [200/469], Loss: 0.27366092801094055\n",
            "Epoch [7/10], Step [300/469], Loss: 0.24431036412715912\n",
            "Epoch [7/10], Step [400/469], Loss: 0.32897520065307617\n",
            "Epoch [8/10], Step [100/469], Loss: 0.24407893419265747\n",
            "Epoch [8/10], Step [200/469], Loss: 0.25892192125320435\n",
            "Epoch [8/10], Step [300/469], Loss: 0.4507015645503998\n",
            "Epoch [8/10], Step [400/469], Loss: 0.331432968378067\n",
            "Epoch [9/10], Step [100/469], Loss: 0.3000344932079315\n",
            "Epoch [9/10], Step [200/469], Loss: 0.2126813530921936\n",
            "Epoch [9/10], Step [300/469], Loss: 0.1755136400461197\n",
            "Epoch [9/10], Step [400/469], Loss: 0.3840770125389099\n",
            "Epoch [10/10], Step [100/469], Loss: 0.1980048567056656\n",
            "Epoch [10/10], Step [200/469], Loss: 0.21452036499977112\n",
            "Epoch [10/10], Step [300/469], Loss: 0.35739365220069885\n",
            "Epoch [10/10], Step [400/469], Loss: 0.3787299692630768\n"
          ]
        },
        {
          "output_type": "display_data",
          "data": {
            "text/plain": [
              "<Figure size 432x288 with 1 Axes>"
            ],
            "image/png": "[encoded data removed]"
          },
          "metadata": {
            "needs_background": "light"
          }
        }
      ],
      "source": [
        "# Loss and optimizer\n",
        "criterion = nn.CrossEntropyLoss()\n",
        "optimizer = torch.optim.Adam(model.parameters(), lr=learning_rate, weight_decay=0.00001)\n",
        "Loss2=[]\n",
        "n_total_steps = len(train_loader)\n",
        "for epoch in range(num_epochs):\n",
        "    for i, (images, labels) in enumerate(train_loader):\n",
        "        \n",
        "        # origin shape: [100, 1, 28, 28]\n",
        "        # resized: [100, 784]\n",
        "        images = images.reshape(-1, 28*28).to(device)\n",
        "        labels = labels.to(device)\n",
        "        # Forward pass\n",
        "        outputs = model(images)\n",
        "        loss = criterion(outputs, labels)\n",
        "        outputsval = model(images)\n",
        "        # Backward and optimize\n",
        "        optimizer.zero_grad()\n",
        "        loss.backward()\n",
        "        optimizer.step()\n",
        "        Loss2.append(loss.item())\n",
        "        if (i+1) % 100 == 0:\n",
        "            \n",
        "            print (f'Epoch [{epoch+1}/{num_epochs}], Step [{i+1}/{n_total_steps}], Loss: {loss.item()}')\n",
        "plt.plot(Loss2)\n",
        "plt.xlabel(\"Epoch\")\n",
        "plt.ylabel(\"Loss\")\n",
        "plt.show()\n"
      ]
    },
    {
      "cell_type": "code",
      "execution_count": null,
      "metadata": {
        "id": "MSUiTHpHVNLh"
      },
      "outputs": [],
      "source": [
        " # Test the model\n",
        "# In test phase, we don't need to compute gradients (for memory efficiency)\n",
        "with torch.no_grad():\n",
        "    n_correct = 0\n",
        "    n_samples= 0\n",
        "    for images, labels in test_loader:\n",
        "        \n",
        "        images = images.reshape(-1, 28*28).to(device)\n",
        "        labels = labels.to(device)\n",
        "        outputs = model(images)\n",
        "    # max returns (value ,index)\n",
        "        _, predicted = torch.max(outputs.data, 1)\n",
        "        n_samples += labels.size(0)\n",
        "        n_correct += (predicted == labels).sum().item()\n",
        "    acc= 100.0 * n_correct / n_samples\n",
        "    print(f'Accuracy of the network on the 10000 test images: {acc} %')\n",
        "    #89.18"
      ]
    },
    {
      "cell_type": "code",
      "execution_count": null,
      "metadata": {
        "id": "M2jSCFz8VcVt"
      },
      "outputs": [],
      "source": [
        "plt.plot(Loss)\n",
        "plt.plot(Loss2)\n",
        "plt.xlabel(\"Epoch\")\n",
        "plt.ylabel(\"Loss\")\n",
        "plt.show()\n"
      ]
    },
    {
      "cell_type": "code",
      "execution_count": null,
      "metadata": {
        "id": "YYBp4b6YVf58"
      },
      "outputs": [],
      "source": [
        "del model\n",
        "model = NeuralNet(input_size, hidden_size, num_classes).to(device)\n",
        "# Loss and optimizer\n",
        "criterion = nn.CrossEntropyLoss()\n",
        "optimizer = torch.optim.Adam(model.parameters(), lr=learning_rate, weight_decay=0.00001)\n"
      ]
    },
    {
      "cell_type": "code",
      "execution_count": 48,
      "metadata": {
        "id": "kgO71omOaQx6"
      },
      "outputs": [],
      "source": [
        "\n",
        "class EarlyStopping:\n",
        "    \"\"\"Early stops the training if validation loss doesn't improve after a given patience.\"\"\"\n",
        "    def __init__(self, patience=7, verbose=False, delta=0, path='checkpoint.pt', trace_func=print):\n",
        "        \"\"\"\n",
        "        Args:\n",
        "            patience (int): How long to wait after last time validation loss improved.\n",
        "                            Default: 7\n",
        "            verbose (bool): If True, prints a message for each validation loss improvement. \n",
        "                            Default: False\n",
        "            delta (float): Minimum change in the monitored quantity to qualify as an improvement.\n",
        "                            Default: 0\n",
        "            path (str): Path for the checkpoint to be saved to.\n",
        "                            Default: 'checkpoint.pt'\n",
        "            trace_func (function): trace print function.\n",
        "                            Default: print            \n",
        "        \"\"\"\n",
        "        self.patience = patience\n",
        "        self.verbose = verbose\n",
        "        self.counter = 0\n",
        "        self.best_score = None\n",
        "        self.early_stop = False\n",
        "        self.val_loss_min = np.Inf\n",
        "        self.delta = delta\n",
        "        self.path = path\n",
        "        self.trace_func = trace_func\n",
        "    def __call__(self, val_loss, model):\n",
        "\n",
        "        score = -val_loss\n",
        "\n",
        "        if self.best_score is None:\n",
        "            self.best_score = score\n",
        "            self.save_checkpoint(val_loss, model)\n",
        "        elif score < self.best_score + self.delta:\n",
        "            self.counter += 1\n",
        "            self.trace_func(f'EarlyStopping counter: {self.counter} out of {self.patience}')\n",
        "            if self.counter >= self.patience:\n",
        "                self.early_stop = True\n",
        "        else:\n",
        "            self.best_score = score\n",
        "            self.save_checkpoint(val_loss, model)\n",
        "            self.counter = 0\n",
        "\n",
        "    def save_checkpoint(self, val_loss, model):\n",
        "        '''Saves model when validation loss decrease.'''\n",
        "        if self.verbose:\n",
        "            self.trace_func(f'Validation loss decreased ({self.val_loss_min:.6f} --> {val_loss:.6f}).  Saving model ...')\n",
        "        torch.save(model.state_dict(), self.path)\n",
        "        self.val_loss_min = val_loss"
      ]
    },
    {
      "cell_type": "code",
      "execution_count": 49,
      "metadata": {
        "id": "G1SjRIvyjqFU"
      },
      "outputs": [],
      "source": [
        "def train_model(model, batch_size, patience, n_epochs):\n",
        "    \n",
        "      # to track the training loss as the model trains\n",
        "    train_losses = []\n",
        "  # to track the validation loss as the model trains\n",
        "    valid_losses = []\n",
        "  # to track the average training loss per epoch as the model trains\n",
        "    avg_train_losses = []\n",
        "  # to track the average validation loss per epoch as the model trains\n",
        "    avg_valid_losses = []\n",
        "  # initialize the early_stopping object\n",
        "    early_stopping = EarlyStopping(patience=patience, verbose=True) \n",
        "    for epoch in range( n_epochs ):\n",
        "    ###################\n",
        "    # train the model #\n",
        "    ###################\n",
        "        model.train() # prep model for training\n",
        "    #for i, (images, labels) in enumerate(train_loader):\n",
        "        for batch, (data, target) in enumerate(train_loader,1):\n",
        "      # clear the gradients of all optimized variables\n",
        "            data = data.reshape(-1, 28*28).to(device)\n",
        "            target = target.to(device)\n",
        "            optimizer.zero_grad()\n",
        "      # forward pass: compute predicted outputs by passing inputs to the model\n",
        "            output = model(data)\n",
        "      # calculate the loss\n",
        "            loss = criterion(output, target)\n",
        "      # backward pass: compute gradient of the loss with respect to model parameters\n",
        "            loss.backward()\n",
        "      # perform a single optimization step (parameter update)\n",
        "            optimizer.step()\n",
        "      # record training loss\n",
        "            train_losses.append(loss.item())\n",
        "    ######################\n",
        "    # validate the model #\n",
        "    ######################\n",
        "        model.eval() # prep model for evaluation\n",
        "        for data, target in valid_loader:\n",
        "            data = data.reshape(-1, 28*28).to(device)\n",
        "            target = target.to(device)\n",
        "          # forward pass: compute predicted outputs by passing inputs to the model\n",
        "            output = model(data)\n",
        "          # calculate the loss\n",
        "            loss = criterion(output, target)\n",
        "          # record validation loss\n",
        "            valid_losses.append(loss.item())\n",
        "    # print training/validation statistics\n",
        "    # calculate average loss over an epoch\n",
        "        train_loss = np.average(train_losses)\n",
        "        valid_loss = np.average(valid_losses)\n",
        "        avg_train_losses.append(train_loss)\n",
        "        avg_valid_losses.append(valid_loss)\n",
        "        epoch_len = len(str(n_epochs))\n",
        "        print_msg = (f'[{epoch:>{epoch_len+1}}/{n_epochs:>{epoch_len}}] ' +\n",
        "        f'train_loss: {train_loss:.5f} ' +\n",
        "        f'valid_loss: {valid_loss:.5f}')\n",
        "        print(print_msg)\n",
        "        # clear lists to track next epoch\n",
        "        train_losses = []\n",
        "        valid_losses = []\n",
        "        # early_stopping needs the validation loss to check if it has decresed,\n",
        "        # and if it has, it will make a checkpoint of the current model\n",
        "        early_stopping(valid_loss, model)\n",
        "        if early_stopping.early_stop:\n",
        "            print(\"Early stopping\")\n",
        "            break\n",
        "  # load the last checkpoint with the best model\n",
        "    model.load_state_dict(torch.load('checkpoint.pt'))\n",
        "    return model, avg_train_losses, avg_valid_losses\n"
      ]
    },
    {
      "cell_type": "code",
      "execution_count": 50,
      "metadata": {
        "colab": {
          "base_uri": "https://localhost:8080/"
        },
        "id": "h-mRHjlLkazl",
        "outputId": "2eea1dd5-eb0d-4c7b-9325-9033b56bc943"
      },
      "outputs": [
        {
          "output_type": "stream",
          "name": "stdout",
          "text": [
            "[  0/20] train_loss: 1.39302 valid_loss: 1.14864\n",
            "Validation loss decreased (inf --> 1.148640).  Saving model ...\n",
            "[  1/20] train_loss: 1.01878 valid_loss: 0.85931\n",
            "Validation loss decreased (1.148640 --> 0.859313).  Saving model ...\n",
            "[  2/20] train_loss: 0.77900 valid_loss: 0.66929\n",
            "Validation loss decreased (0.859313 --> 0.669292).  Saving model ...\n",
            "[  3/20] train_loss: 0.61102 valid_loss: 0.53911\n",
            "Validation loss decreased (0.669292 --> 0.539113).  Saving model ...\n",
            "[  4/20] train_loss: 0.50201 valid_loss: 0.47235\n",
            "Validation loss decreased (0.539113 --> 0.472352).  Saving model ...\n",
            "[  5/20] train_loss: 0.42652 valid_loss: 0.40908\n",
            "Validation loss decreased (0.472352 --> 0.409075).  Saving model ...\n",
            "[  6/20] train_loss: 0.37405 valid_loss: 0.37602\n",
            "Validation loss decreased (0.409075 --> 0.376016).  Saving model ...\n",
            "[  7/20] train_loss: 0.33344 valid_loss: 0.34360\n",
            "Validation loss decreased (0.376016 --> 0.343605).  Saving model ...\n",
            "[  8/20] train_loss: 0.30248 valid_loss: 0.32122\n",
            "Validation loss decreased (0.343605 --> 0.321222).  Saving model ...\n",
            "[  9/20] train_loss: 0.27828 valid_loss: 0.30720\n",
            "Validation loss decreased (0.321222 --> 0.307202).  Saving model ...\n",
            "[ 10/20] train_loss: 0.25860 valid_loss: 0.29778\n",
            "Validation loss decreased (0.307202 --> 0.297784).  Saving model ...\n",
            "[ 11/20] train_loss: 0.24458 valid_loss: 0.30451\n",
            "EarlyStopping counter: 1 out of 20\n",
            "[ 12/20] train_loss: 0.23071 valid_loss: 0.29657\n",
            "Validation loss decreased (0.297784 --> 0.296573).  Saving model ...\n",
            "[ 13/20] train_loss: 0.21756 valid_loss: 0.28764\n",
            "Validation loss decreased (0.296573 --> 0.287635).  Saving model ...\n",
            "[ 14/20] train_loss: 0.20688 valid_loss: 0.29761\n",
            "EarlyStopping counter: 1 out of 20\n",
            "[ 15/20] train_loss: 0.19359 valid_loss: 0.28473\n",
            "Validation loss decreased (0.287635 --> 0.284729).  Saving model ...\n",
            "[ 16/20] train_loss: 0.18814 valid_loss: 0.28153\n",
            "Validation loss decreased (0.284729 --> 0.281532).  Saving model ...\n",
            "[ 17/20] train_loss: 0.17877 valid_loss: 0.28262\n",
            "EarlyStopping counter: 1 out of 20\n",
            "[ 18/20] train_loss: 0.17028 valid_loss: 0.29468\n",
            "EarlyStopping counter: 2 out of 20\n",
            "[ 19/20] train_loss: 0.16490 valid_loss: 0.29533\n",
            "EarlyStopping counter: 3 out of 20\n"
          ]
        }
      ],
      "source": [
        "batch_size = batch_size\n",
        "n_epochs = num_epochs+10\n",
        "train_loader, test_loader, valid_loader = create_datasets(batch_size)\n",
        "# early stopping patience; how long to wait after last time validation loss improved.\n",
        "patience = 20\n",
        "model, train_loss, valid_loss = train_model(model, batch_size, patience, n_epochs) "
      ]
    },
    {
      "cell_type": "code",
      "execution_count": null,
      "metadata": {
        "id": "wu4fusfSV8dn"
      },
      "outputs": [],
      "source": [
        "# visualize the loss as the network trained\n",
        "fig = plt.figure(figsize=(10,8))\n",
        "plt.plot(range(1,len(train_loss)+1),train_loss, label='Training Loss')\n",
        "plt.plot(range(1,len(valid_loss)+1),valid_loss,label='Validation Loss')\n",
        "# find position of lowest validation loss\n",
        "minposs = valid_loss.index(min(valid_loss))+1\n",
        "plt.axvline(minposs, linestyle='--', color='r',label='Early Stopping Checkpoint')\n",
        "plt.xlabel('epochs')\n",
        "plt.ylabel('loss')\n",
        "plt.ylim(0, 1) # consistent scale\n",
        "plt.xlim(0, len(train_loss)+1) # consistent scale\n",
        "plt.grid(True)\n",
        "plt.legend()\n",
        "plt.tight_layout()\n",
        "plt.show()\n",
        "fig.savefig('loss_plot.png', bbox_inches='tight')"
      ]
    },
    {
      "cell_type": "code",
      "execution_count": 52,
      "metadata": {
        "id": "UdR5z_9PWEVC",
        "colab": {
          "base_uri": "https://localhost:8080/"
        },
        "outputId": "81ad39e1-28d7-45b1-ef4f-2876b65e3c45"
      },
      "outputs": [
        {
          "metadata": {
            "tags": null
          },
          "name": "stdout",
          "output_type": "stream",
          "text": [
            "Test Loss: 0.311435\n",
            "\n",
            "Test Accuracy of     0: 78% (788/1000)\n",
            "Test Accuracy of     1: 97% (976/997)\n",
            "Test Accuracy of     2: 81% (812/999)\n",
            "Test Accuracy of     3: 90% (906/999)\n",
            "Test Accuracy of     4: 78% (789/999)\n",
            "Test Accuracy of     5: 96% (967/997)\n",
            "Test Accuracy of     6: 75% (756/999)\n",
            "Test Accuracy of     7: 97% (970/999)\n",
            "Test Accuracy of     8: 97% (975/997)\n",
            "Test Accuracy of     9: 96% (965/998)\n",
            "\n",
            "Test Accuracy (Overall):    89% ( 8904/ 9984)\n"
          ]
        }
      ],
      "source": [
        "# initialize lists to monitor test loss and accuracy\n",
        "test_loss = 0.0\n",
        "class_correct = list(0. for i in range(10))\n",
        "class_total = list(0. for i in range(10))\n",
        "model.eval() # prep model for evaluation\n",
        "for data, target in test_loader:\n",
        "  if len(target.data) != batch_size:\n",
        "    break\n",
        "  data = data.reshape(-1, 28*28).to(device)\n",
        "  target = target.to(device)\n",
        "  # forward pass: compute predicted outputs by passing inputs to the model\n",
        "  output = model(data)\n",
        "  # calculate the loss\n",
        "  loss = criterion(output, target)\n",
        "  # update test loss\n",
        "  test_loss += loss.item()*data.size(0)\n",
        "  # convert output probabilities to predicted class\n",
        "  _, pred = torch.max(output, 1)\n",
        "  # compare predictions to true label\n",
        "  correct = np.squeeze(pred.eq(target.data.view_as(pred)))\n",
        "  # calculate test accuracy for each object class\n",
        "  for i in range(batch_size):\n",
        "    label = target.data[i]\n",
        "    class_correct[label] += correct[i].item()\n",
        "    class_total[label] += 1\n",
        "# calculate and print avg test loss\n",
        "test_loss = test_loss/len(test_loader.dataset)\n",
        "print('Test Loss: {:.6f}\\n'.format(test_loss))\n",
        "for i in range(10):\n",
        "  if class_total[i] > 0:\n",
        "    print('Test Accuracy of %5s: %2d%% (%2d/%2d)' % (\n",
        "    str(i), 100 * class_correct[i] / class_total[i],\n",
        "    np.sum(class_correct[i]), np.sum(class_total[i])))\n",
        "  else:\n",
        "    print('Test Accuracy of %5s: N/A (no training examples)' % (classes[i]))\n",
        "print('\\nTest Accuracy (Overall): %5d%% (%5d/%5d)' % (100. * np.sum(class_correct) / np.sum(class_total),\n",
        "                                                      np.sum(class_correct), np.sum(class_total)))\n"
      ]
    }
  ],
  "metadata": {
    "colab": {
      "provenance": []
    },
    "kernelspec": {
      "display_name": "Python 3",
      "language": "python",
      "name": "python3"
    }
  },
  "nbformat": 4,
  "nbformat_minor": 0
}